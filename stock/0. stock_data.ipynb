{
 "cells": [
  {
   "cell_type": "code",
   "execution_count": 49,
   "metadata": {},
   "outputs": [],
   "source": [
    "from stock import StockData\n",
    "from tqdm.notebook import tqdm\n",
    "import numpy as np\n",
    "import torch\n",
    "import pickle as pkl"
   ]
  },
  {
   "cell_type": "code",
   "execution_count": 2,
   "metadata": {},
   "outputs": [],
   "source": [
    "with open('./stockdata.pkl', 'rb') as f:\n",
    "    stockdata = pkl.load(f)"
   ]
  },
  {
   "cell_type": "code",
   "execution_count": 3,
   "metadata": {},
   "outputs": [],
   "source": [
    "stockdata = StockData(reference_data = stockdata.stock_data)"
   ]
  },
  {
   "cell_type": "code",
   "execution_count": 6,
   "metadata": {},
   "outputs": [],
   "source": [
    "data_frame = stockdata.stock_data"
   ]
  },
  {
   "cell_type": "code",
   "execution_count": 59,
   "metadata": {},
   "outputs": [],
   "source": [
    "input_code = '155660'\n",
    "partition = 20\n",
    "\n",
    "def derive_train_test_tensor(data_frame, partition):\n",
    "    partition += 1\n",
    "    \n",
    "    code_list = set(data_frame['코드'])\n",
    "        \n",
    "    for input_code in tqdm(code_list):\n",
    "        code_data = data_frame[data_frame['코드'] == input_code]\n",
    "\n",
    "        input_tensor = torch.Tensor()\n",
    "        output_tensor = torch.Tensor()\n",
    "\n",
    "        data_length = len(code_data)\n",
    "        data_access_index = partition\n",
    "\n",
    "        while data_access_index < data_length:\n",
    "            # Preprocess\n",
    "            sample_code = code_data[data_access_index - partition:data_access_index]\n",
    "            sample_code = np.array(sample_code[['시가', '종가', '저가', '고가', '거래량']]).astype(int)\n",
    "            input_data = torch.Tensor([sample_code[:partition - 1]])\n",
    "            output_data = torch.Tensor([sample_code[partition - 1]])\n",
    "\n",
    "            # Add to whole tensor information\n",
    "            input_tensor = torch.cat([input_tensor, input_data])\n",
    "            output_tensor = torch.cat([output_tensor, output_data])\n",
    "\n",
    "            # Termination\n",
    "            data_access_index += 1\n",
    "        \n",
    "        with open(f'./tensor_training_file/{input_code}.pkl', 'wb') as f:\n",
    "            pkl.dump({'input': input_tensor, 'output': output_tensor}, f)\n",
    "            "
   ]
  },
  {
   "cell_type": "code",
   "execution_count": 60,
   "metadata": {},
   "outputs": [
    {
     "data": {
      "application/vnd.jupyter.widget-view+json": {
       "model_id": "4713634595534f9dbc7d5678d47431fc",
       "version_major": 2,
       "version_minor": 0
      },
      "text/plain": [
       "HBox(children=(HTML(value=''), FloatProgress(value=0.0, max=2404.0), HTML(value='')))"
      ]
     },
     "metadata": {},
     "output_type": "display_data"
    },
    {
     "name": "stdout",
     "output_type": "stream",
     "text": [
      "\n"
     ]
    }
   ],
   "source": [
    "derive_train_test_tensor(data_frame, 20)"
   ]
  }
 ],
 "metadata": {
  "kernelspec": {
   "display_name": "Python 3",
   "language": "python",
   "name": "python3"
  },
  "language_info": {
   "codemirror_mode": {
    "name": "ipython",
    "version": 3
   },
   "file_extension": ".py",
   "mimetype": "text/x-python",
   "name": "python",
   "nbconvert_exporter": "python",
   "pygments_lexer": "ipython3",
   "version": "3.8.2"
  }
 },
 "nbformat": 4,
 "nbformat_minor": 4
}
