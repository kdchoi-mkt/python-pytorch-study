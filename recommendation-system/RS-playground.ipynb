{
 "cells": [
  {
   "cell_type": "code",
   "execution_count": 5,
   "metadata": {},
   "outputs": [],
   "source": [
    "# pytorch Framework\n",
    "import torch\n",
    "import torch.nn as NN\n",
    "import torch.optim as Optim\n",
    "\n",
    "# Useful Library\n",
    "import pandas as pd\n",
    "import numpy as np\n",
    "from scipy import sparse\n",
    "from sklearn.preprocessing import LabelEncoder\n",
    "\n",
    "# Procedure Function\n",
    "from tqdm.notebook import tqdm\n",
    "\n",
    "# Extent Implicit Feedback Algorithm\n",
    "from implicit import als"
   ]
  },
  {
   "cell_type": "code",
   "execution_count": 31,
   "metadata": {},
   "outputs": [],
   "source": [
    "train_data = pd.read_csv('./sample_data/train_data.csv')"
   ]
  },
  {
   "cell_type": "code",
   "execution_count": 37,
   "metadata": {},
   "outputs": [
    {
     "data": {
      "application/vnd.jupyter.widget-view+json": {
       "model_id": "da87e19433b84f459853dc3b974fd347",
       "version_major": 2,
       "version_minor": 0
      },
      "text/plain": [
       "HBox(children=(HTML(value=''), FloatProgress(value=0.0, max=10.0), HTML(value='')))"
      ]
     },
     "metadata": {},
     "output_type": "display_data"
    },
    {
     "name": "stdout",
     "output_type": "stream",
     "text": [
      "\n"
     ]
    }
   ],
   "source": [
    "model = als.AlternatingLeastSquares(factors = 500, iterations = 10, regularization = 0.1, calculate_training_loss = True)\n",
    "\n",
    "category_encoder = LabelEncoder()\n",
    "category_encoder.fit(train_data['상품대분류'])\n",
    "\n",
    "customer_encoder = LabelEncoder()\n",
    "customer_encoder.fit(train_data['유저ID'])\n",
    "\n",
    "train_data['상품대분류_코드'] = category_encoder.transform(train_data['상품대분류'])\n",
    "train_data['회원_코드'] = customer_encoder.transform(train_data['유저ID'])\n",
    "\n",
    "alpha = 40\n",
    "\n",
    "user_category = sparse.csr_matrix((train_data['상품뷰횟수'].astype(float),(train_data['회원_코드'], train_data['상품대분류_코드'])))\n",
    "category_user = sparse.csr_matrix((train_data['상품뷰횟수'].astype(float),(train_data['상품대분류_코드'], train_data['회원_코드']))) * alpha\n",
    "\n",
    "model.fit(category_user.astype('double'))"
   ]
  },
  {
   "cell_type": "code",
   "execution_count": 41,
   "metadata": {},
   "outputs": [],
   "source": [
    "non_missing_matrix = model.user_factors @ model.item_factors.T\n",
    "non_missing_df = pd.DataFrame(non_missing_matrix)\n",
    "\n",
    "non_missing_df = non_missing_df.reset_index()\n",
    "non_missing_df['회원번호'] = customer_encoder.inverse_transform(non_missing_df['index'])\n",
    "non_missing_df = non_missing_df.set_index('회원번호').drop('index', axis = 1)\n",
    "\n",
    "non_missing_df.columns = category_encoder.inverse_transform(range(30))"
   ]
  },
  {
   "cell_type": "code",
   "execution_count": 42,
   "metadata": {},
   "outputs": [
    {
     "data": {
      "text/html": [
       "<div>\n",
       "<style scoped>\n",
       "    .dataframe tbody tr th:only-of-type {\n",
       "        vertical-align: middle;\n",
       "    }\n",
       "\n",
       "    .dataframe tbody tr th {\n",
       "        vertical-align: top;\n",
       "    }\n",
       "\n",
       "    .dataframe thead th {\n",
       "        text-align: right;\n",
       "    }\n",
       "</style>\n",
       "<table border=\"1\" class=\"dataframe\">\n",
       "  <thead>\n",
       "    <tr style=\"text-align: right;\">\n",
       "      <th></th>\n",
       "      <th>가구/침구</th>\n",
       "      <th>건강식품</th>\n",
       "      <th>건강용품</th>\n",
       "      <th>공구</th>\n",
       "      <th>냉방/난방/욕실</th>\n",
       "      <th>문구/사무/파티</th>\n",
       "      <th>미술/공예/종교용품</th>\n",
       "      <th>생활가전</th>\n",
       "      <th>스포츠/레저</th>\n",
       "      <th>신발</th>\n",
       "      <th>...</th>\n",
       "      <th>자동차 용품</th>\n",
       "      <th>재해예방/방범/안전</th>\n",
       "      <th>조명/전기용품</th>\n",
       "      <th>주방용품</th>\n",
       "      <th>청소/생활잡화</th>\n",
       "      <th>캠핑</th>\n",
       "      <th>컨버전</th>\n",
       "      <th>컴퓨터/비디오게임</th>\n",
       "      <th>통신기기</th>\n",
       "      <th>패션잡화/보석</th>\n",
       "    </tr>\n",
       "    <tr>\n",
       "      <th>회원번호</th>\n",
       "      <th></th>\n",
       "      <th></th>\n",
       "      <th></th>\n",
       "      <th></th>\n",
       "      <th></th>\n",
       "      <th></th>\n",
       "      <th></th>\n",
       "      <th></th>\n",
       "      <th></th>\n",
       "      <th></th>\n",
       "      <th></th>\n",
       "      <th></th>\n",
       "      <th></th>\n",
       "      <th></th>\n",
       "      <th></th>\n",
       "      <th></th>\n",
       "      <th></th>\n",
       "      <th></th>\n",
       "      <th></th>\n",
       "      <th></th>\n",
       "      <th></th>\n",
       "    </tr>\n",
       "  </thead>\n",
       "  <tbody>\n",
       "    <tr>\n",
       "      <th>200010576707</th>\n",
       "      <td>0.046138</td>\n",
       "      <td>0.012536</td>\n",
       "      <td>-0.036564</td>\n",
       "      <td>-0.000089</td>\n",
       "      <td>0.016414</td>\n",
       "      <td>-0.001317</td>\n",
       "      <td>0.000700</td>\n",
       "      <td>0.009023</td>\n",
       "      <td>-0.037054</td>\n",
       "      <td>0.035161</td>\n",
       "      <td>...</td>\n",
       "      <td>0.001373</td>\n",
       "      <td>0.120162</td>\n",
       "      <td>-0.000384</td>\n",
       "      <td>-0.042982</td>\n",
       "      <td>-0.019127</td>\n",
       "      <td>-0.000187</td>\n",
       "      <td>-0.002229</td>\n",
       "      <td>0.000921</td>\n",
       "      <td>-0.001598</td>\n",
       "      <td>0.131826</td>\n",
       "    </tr>\n",
       "    <tr>\n",
       "      <th>200010586533</th>\n",
       "      <td>0.585289</td>\n",
       "      <td>0.503960</td>\n",
       "      <td>0.222030</td>\n",
       "      <td>0.005898</td>\n",
       "      <td>0.528262</td>\n",
       "      <td>0.012961</td>\n",
       "      <td>0.004621</td>\n",
       "      <td>0.970983</td>\n",
       "      <td>0.287575</td>\n",
       "      <td>0.989267</td>\n",
       "      <td>...</td>\n",
       "      <td>0.014941</td>\n",
       "      <td>0.565332</td>\n",
       "      <td>0.009072</td>\n",
       "      <td>0.981506</td>\n",
       "      <td>0.980368</td>\n",
       "      <td>0.083301</td>\n",
       "      <td>0.006164</td>\n",
       "      <td>0.030202</td>\n",
       "      <td>0.007084</td>\n",
       "      <td>0.961883</td>\n",
       "    </tr>\n",
       "    <tr>\n",
       "      <th>200010657400</th>\n",
       "      <td>0.135130</td>\n",
       "      <td>0.149023</td>\n",
       "      <td>0.082520</td>\n",
       "      <td>0.001076</td>\n",
       "      <td>0.148898</td>\n",
       "      <td>0.003052</td>\n",
       "      <td>0.001021</td>\n",
       "      <td>0.128972</td>\n",
       "      <td>0.088526</td>\n",
       "      <td>0.127813</td>\n",
       "      <td>...</td>\n",
       "      <td>0.005663</td>\n",
       "      <td>0.107184</td>\n",
       "      <td>0.002271</td>\n",
       "      <td>0.136619</td>\n",
       "      <td>0.146052</td>\n",
       "      <td>0.016875</td>\n",
       "      <td>0.002697</td>\n",
       "      <td>0.005418</td>\n",
       "      <td>0.001775</td>\n",
       "      <td>0.108273</td>\n",
       "    </tr>\n",
       "    <tr>\n",
       "      <th>200010659583</th>\n",
       "      <td>0.105595</td>\n",
       "      <td>0.074777</td>\n",
       "      <td>-0.014464</td>\n",
       "      <td>-0.000522</td>\n",
       "      <td>0.055693</td>\n",
       "      <td>-0.002959</td>\n",
       "      <td>0.001688</td>\n",
       "      <td>0.062490</td>\n",
       "      <td>-0.002485</td>\n",
       "      <td>0.146795</td>\n",
       "      <td>...</td>\n",
       "      <td>-0.004383</td>\n",
       "      <td>0.151413</td>\n",
       "      <td>-0.000444</td>\n",
       "      <td>-0.003982</td>\n",
       "      <td>0.045732</td>\n",
       "      <td>-0.008615</td>\n",
       "      <td>0.001120</td>\n",
       "      <td>-0.009977</td>\n",
       "      <td>-0.002351</td>\n",
       "      <td>0.174821</td>\n",
       "    </tr>\n",
       "    <tr>\n",
       "      <th>200010663821</th>\n",
       "      <td>0.461532</td>\n",
       "      <td>0.386932</td>\n",
       "      <td>0.060863</td>\n",
       "      <td>-0.009850</td>\n",
       "      <td>1.004117</td>\n",
       "      <td>-0.021196</td>\n",
       "      <td>-0.006983</td>\n",
       "      <td>0.988719</td>\n",
       "      <td>0.115885</td>\n",
       "      <td>1.006549</td>\n",
       "      <td>...</td>\n",
       "      <td>-0.037871</td>\n",
       "      <td>0.511141</td>\n",
       "      <td>-0.016137</td>\n",
       "      <td>0.223252</td>\n",
       "      <td>0.319255</td>\n",
       "      <td>-0.050471</td>\n",
       "      <td>-0.004928</td>\n",
       "      <td>-0.063478</td>\n",
       "      <td>-0.025338</td>\n",
       "      <td>0.544839</td>\n",
       "    </tr>\n",
       "    <tr>\n",
       "      <th>...</th>\n",
       "      <td>...</td>\n",
       "      <td>...</td>\n",
       "      <td>...</td>\n",
       "      <td>...</td>\n",
       "      <td>...</td>\n",
       "      <td>...</td>\n",
       "      <td>...</td>\n",
       "      <td>...</td>\n",
       "      <td>...</td>\n",
       "      <td>...</td>\n",
       "      <td>...</td>\n",
       "      <td>...</td>\n",
       "      <td>...</td>\n",
       "      <td>...</td>\n",
       "      <td>...</td>\n",
       "      <td>...</td>\n",
       "      <td>...</td>\n",
       "      <td>...</td>\n",
       "      <td>...</td>\n",
       "      <td>...</td>\n",
       "      <td>...</td>\n",
       "    </tr>\n",
       "    <tr>\n",
       "      <th>202007868892</th>\n",
       "      <td>0.197040</td>\n",
       "      <td>0.156343</td>\n",
       "      <td>0.057544</td>\n",
       "      <td>0.000851</td>\n",
       "      <td>0.187677</td>\n",
       "      <td>0.002169</td>\n",
       "      <td>0.001588</td>\n",
       "      <td>0.960783</td>\n",
       "      <td>0.071970</td>\n",
       "      <td>0.166844</td>\n",
       "      <td>...</td>\n",
       "      <td>0.006596</td>\n",
       "      <td>0.210318</td>\n",
       "      <td>0.001805</td>\n",
       "      <td>0.121372</td>\n",
       "      <td>0.127618</td>\n",
       "      <td>0.039225</td>\n",
       "      <td>-0.001439</td>\n",
       "      <td>0.016050</td>\n",
       "      <td>0.001062</td>\n",
       "      <td>0.230858</td>\n",
       "    </tr>\n",
       "    <tr>\n",
       "      <th>202007868897</th>\n",
       "      <td>0.152189</td>\n",
       "      <td>0.146256</td>\n",
       "      <td>0.091291</td>\n",
       "      <td>-0.000121</td>\n",
       "      <td>0.174757</td>\n",
       "      <td>0.000600</td>\n",
       "      <td>0.000665</td>\n",
       "      <td>0.977829</td>\n",
       "      <td>0.109230</td>\n",
       "      <td>0.125566</td>\n",
       "      <td>...</td>\n",
       "      <td>0.005390</td>\n",
       "      <td>0.089541</td>\n",
       "      <td>0.000999</td>\n",
       "      <td>0.166456</td>\n",
       "      <td>0.151148</td>\n",
       "      <td>0.039497</td>\n",
       "      <td>0.000413</td>\n",
       "      <td>0.015752</td>\n",
       "      <td>-0.000062</td>\n",
       "      <td>0.093641</td>\n",
       "    </tr>\n",
       "    <tr>\n",
       "      <th>202007868922</th>\n",
       "      <td>0.196929</td>\n",
       "      <td>0.156321</td>\n",
       "      <td>0.057591</td>\n",
       "      <td>0.000845</td>\n",
       "      <td>0.187651</td>\n",
       "      <td>0.002155</td>\n",
       "      <td>0.001587</td>\n",
       "      <td>0.960833</td>\n",
       "      <td>0.072042</td>\n",
       "      <td>0.166682</td>\n",
       "      <td>...</td>\n",
       "      <td>0.006589</td>\n",
       "      <td>0.210011</td>\n",
       "      <td>0.001799</td>\n",
       "      <td>0.121466</td>\n",
       "      <td>0.127685</td>\n",
       "      <td>0.039210</td>\n",
       "      <td>-0.001433</td>\n",
       "      <td>0.016043</td>\n",
       "      <td>0.001048</td>\n",
       "      <td>0.230466</td>\n",
       "    </tr>\n",
       "    <tr>\n",
       "      <th>202007868953</th>\n",
       "      <td>0.152189</td>\n",
       "      <td>0.146256</td>\n",
       "      <td>0.091291</td>\n",
       "      <td>-0.000121</td>\n",
       "      <td>0.174757</td>\n",
       "      <td>0.000600</td>\n",
       "      <td>0.000665</td>\n",
       "      <td>0.977829</td>\n",
       "      <td>0.109230</td>\n",
       "      <td>0.125566</td>\n",
       "      <td>...</td>\n",
       "      <td>0.005390</td>\n",
       "      <td>0.089541</td>\n",
       "      <td>0.000999</td>\n",
       "      <td>0.166456</td>\n",
       "      <td>0.151148</td>\n",
       "      <td>0.039497</td>\n",
       "      <td>0.000414</td>\n",
       "      <td>0.015752</td>\n",
       "      <td>-0.000062</td>\n",
       "      <td>0.093641</td>\n",
       "    </tr>\n",
       "    <tr>\n",
       "      <th>202007868955</th>\n",
       "      <td>0.045343</td>\n",
       "      <td>0.012318</td>\n",
       "      <td>-0.035925</td>\n",
       "      <td>-0.000087</td>\n",
       "      <td>0.016128</td>\n",
       "      <td>-0.001296</td>\n",
       "      <td>0.000689</td>\n",
       "      <td>0.008864</td>\n",
       "      <td>-0.036413</td>\n",
       "      <td>0.034550</td>\n",
       "      <td>...</td>\n",
       "      <td>0.001350</td>\n",
       "      <td>0.118097</td>\n",
       "      <td>-0.000379</td>\n",
       "      <td>-0.042248</td>\n",
       "      <td>-0.018805</td>\n",
       "      <td>-0.000182</td>\n",
       "      <td>-0.002191</td>\n",
       "      <td>0.000907</td>\n",
       "      <td>-0.001571</td>\n",
       "      <td>0.129553</td>\n",
       "    </tr>\n",
       "  </tbody>\n",
       "</table>\n",
       "<p>139164 rows × 30 columns</p>\n",
       "</div>"
      ],
      "text/plain": [
       "                 가구/침구      건강식품      건강용품        공구  냉방/난방/욕실  문구/사무/파티  \\\n",
       "회원번호                                                                       \n",
       "200010576707  0.046138  0.012536 -0.036564 -0.000089  0.016414 -0.001317   \n",
       "200010586533  0.585289  0.503960  0.222030  0.005898  0.528262  0.012961   \n",
       "200010657400  0.135130  0.149023  0.082520  0.001076  0.148898  0.003052   \n",
       "200010659583  0.105595  0.074777 -0.014464 -0.000522  0.055693 -0.002959   \n",
       "200010663821  0.461532  0.386932  0.060863 -0.009850  1.004117 -0.021196   \n",
       "...                ...       ...       ...       ...       ...       ...   \n",
       "202007868892  0.197040  0.156343  0.057544  0.000851  0.187677  0.002169   \n",
       "202007868897  0.152189  0.146256  0.091291 -0.000121  0.174757  0.000600   \n",
       "202007868922  0.196929  0.156321  0.057591  0.000845  0.187651  0.002155   \n",
       "202007868953  0.152189  0.146256  0.091291 -0.000121  0.174757  0.000600   \n",
       "202007868955  0.045343  0.012318 -0.035925 -0.000087  0.016128 -0.001296   \n",
       "\n",
       "              미술/공예/종교용품      생활가전    스포츠/레저        신발  ...    자동차 용품  \\\n",
       "회원번호                                                    ...             \n",
       "200010576707    0.000700  0.009023 -0.037054  0.035161  ...  0.001373   \n",
       "200010586533    0.004621  0.970983  0.287575  0.989267  ...  0.014941   \n",
       "200010657400    0.001021  0.128972  0.088526  0.127813  ...  0.005663   \n",
       "200010659583    0.001688  0.062490 -0.002485  0.146795  ... -0.004383   \n",
       "200010663821   -0.006983  0.988719  0.115885  1.006549  ... -0.037871   \n",
       "...                  ...       ...       ...       ...  ...       ...   \n",
       "202007868892    0.001588  0.960783  0.071970  0.166844  ...  0.006596   \n",
       "202007868897    0.000665  0.977829  0.109230  0.125566  ...  0.005390   \n",
       "202007868922    0.001587  0.960833  0.072042  0.166682  ...  0.006589   \n",
       "202007868953    0.000665  0.977829  0.109230  0.125566  ...  0.005390   \n",
       "202007868955    0.000689  0.008864 -0.036413  0.034550  ...  0.001350   \n",
       "\n",
       "              재해예방/방범/안전   조명/전기용품      주방용품   청소/생활잡화        캠핑       컨버전  \\\n",
       "회원번호                                                                         \n",
       "200010576707    0.120162 -0.000384 -0.042982 -0.019127 -0.000187 -0.002229   \n",
       "200010586533    0.565332  0.009072  0.981506  0.980368  0.083301  0.006164   \n",
       "200010657400    0.107184  0.002271  0.136619  0.146052  0.016875  0.002697   \n",
       "200010659583    0.151413 -0.000444 -0.003982  0.045732 -0.008615  0.001120   \n",
       "200010663821    0.511141 -0.016137  0.223252  0.319255 -0.050471 -0.004928   \n",
       "...                  ...       ...       ...       ...       ...       ...   \n",
       "202007868892    0.210318  0.001805  0.121372  0.127618  0.039225 -0.001439   \n",
       "202007868897    0.089541  0.000999  0.166456  0.151148  0.039497  0.000413   \n",
       "202007868922    0.210011  0.001799  0.121466  0.127685  0.039210 -0.001433   \n",
       "202007868953    0.089541  0.000999  0.166456  0.151148  0.039497  0.000414   \n",
       "202007868955    0.118097 -0.000379 -0.042248 -0.018805 -0.000182 -0.002191   \n",
       "\n",
       "              컴퓨터/비디오게임      통신기기   패션잡화/보석  \n",
       "회원번호                                         \n",
       "200010576707   0.000921 -0.001598  0.131826  \n",
       "200010586533   0.030202  0.007084  0.961883  \n",
       "200010657400   0.005418  0.001775  0.108273  \n",
       "200010659583  -0.009977 -0.002351  0.174821  \n",
       "200010663821  -0.063478 -0.025338  0.544839  \n",
       "...                 ...       ...       ...  \n",
       "202007868892   0.016050  0.001062  0.230858  \n",
       "202007868897   0.015752 -0.000062  0.093641  \n",
       "202007868922   0.016043  0.001048  0.230466  \n",
       "202007868953   0.015752 -0.000062  0.093641  \n",
       "202007868955   0.000907 -0.001571  0.129553  \n",
       "\n",
       "[139164 rows x 30 columns]"
      ]
     },
     "execution_count": 42,
     "metadata": {},
     "output_type": "execute_result"
    }
   ],
   "source": [
    "non_missing_df"
   ]
  },
  {
   "cell_type": "code",
   "execution_count": 107,
   "metadata": {},
   "outputs": [],
   "source": [
    "ranking_matrix = 30 - non_missing_matrix.argsort().argsort()\n",
    "\n",
    "ranking_df = pd.DataFrame(ranking_matrix)\n",
    "\n",
    "ranking_df = ranking_df.reset_index()\n",
    "ranking_df['회원번호'] = customer_encoder.inverse_transform(ranking_df['index'])\n",
    "ranking_df = ranking_df.set_index('회원번호').drop('index', axis = 1)\n",
    "\n",
    "ranking_df.columns = category_encoder.inverse_transform(range(30))"
   ]
  },
  {
   "cell_type": "code",
   "execution_count": 257,
   "metadata": {},
   "outputs": [],
   "source": [
    "def precision_k(train_data, test_data, k, user_col, item_col, rank_col = 'rank'):\n",
    "    \"\"\"Derive Precision@K for the recommendation system\n",
    "    \n",
    "    Train, and test data has the stacked form, and the value is the ranking.\n",
    "    The range of ranking is [1, N] and the ranking is descending order.\n",
    "    \n",
    "    Precision = Actual K / Recommend K\n",
    "    Ex)\n",
    "    | user_id | item_id | rank |\n",
    "    |---------|---------|------|\n",
    "    | 121000  |   012   |   3  |\n",
    "    |  ....   |   ...   |  ... |    \n",
    "    \"\"\"\n",
    "    train_data = train_data[(train_data[rank_col] <= k) & (train_data[user_col].isin(test_data[user_col]))]\n",
    "    test_data = test_data[test_data[rank_col] <= k]\n",
    "    \n",
    "    precision = pd.merge(train_data, test_data, on = [user_col, item_col], how = 'left', suffixes = ('_train', '_test'))\n",
    "    precision_gp = precision.groupby([user_col])\n",
    "\n",
    "    precision_df = pd.DataFrame(\n",
    "        data = [\n",
    "            precision_gp[f'{rank_col}_test'].count(),\n",
    "            precision_gp[f'{rank_col}_train'].count()\n",
    "        ],\n",
    "        index = [\n",
    "            'actual_liked',\n",
    "            'recommended'\n",
    "        ]\n",
    "    ).transpose().reset_index()\n",
    "    precision_df['precision@k'] = precision_df['actual_liked'] / precision_df['recommended']\n",
    "    \n",
    "    return precision_df['precision@k'].mean()\n",
    "\n",
    "def recall_k(train_data, test_data, k, user_col, item_col, rank_col = 'rank'):\n",
    "    \"\"\"Derive Precision@K for the recommendation system\n",
    "    \n",
    "    Train, and test data has the stacked form, and the value is the ranking.\n",
    "    The range of ranking is [1, N] and the ranking is descending order.\n",
    "    \n",
    "    Recall = Recommend K / Actual K\n",
    "    Ex)\n",
    "    | user_id | item_id | rank |\n",
    "    |---------|---------|------|\n",
    "    | 121000  |   012   |   3  |\n",
    "    |  ....   |   ...   |  ... |    \n",
    "    \"\"\"\n",
    "    train_data = train_data[(train_data[rank_col] <= k) & (train_data[user_col].isin(test_data[user_col]))]\n",
    "    test_data = test_data[(test_data[rank_col] <= k) & (test_data[user_col].isin(train_data[user_col]))]\n",
    "    \n",
    "    recall = pd.merge(test_data, train_data, on = [user_col, item_col], how = 'left', suffixes = ('_test', '_train'))\n",
    "    recall_gp = recall.groupby([user_col])\n",
    "\n",
    "    recall_df = pd.DataFrame(\n",
    "        data = [\n",
    "            recall_gp[f'{rank_col}_test'].count(),\n",
    "            recall_gp[f'{rank_col}_train'].count()\n",
    "        ],\n",
    "        index = [\n",
    "            'actual_liked',\n",
    "            'recommended'\n",
    "        ]\n",
    "    ).transpose().reset_index()\n",
    "    recall_df['recall@k'] = recall_df['recommended'] / recall_df['actual_liked']\n",
    "    \n",
    "    return recall_df['recall@k'].mean()\n",
    "\n",
    "def expected_rank_percentile(train_data, test_data, user_col, item_col, rank_col = 'rank'):\n",
    "    \"\"\"Derive ERP for the recommendation system.\n",
    "    The measurement is from \"Hu, Koren, Volinsky (2008)\"\n",
    "    \n",
    "    Train, and test data has the stacked form, and the value is the ranking.\n",
    "    The range of ranking is [1, N] and the ranking is descending order.\n",
    "    \n",
    "    Ex)\n",
    "    | user_id | item_id | rank |\n",
    "    |---------|---------|------|\n",
    "    | 121000  |   012   |   3  |\n",
    "    |  ....   |   ...   |  ... |  \n",
    "    \"\"\"\n",
    "    train_data = train_data[train_data[user_col].isin(test_data[user_col])]\n",
    "    test_data = test_data[test_data[user_col].isin(train_data[user_col])]\n",
    "    \n",
    "    valid_df = pd.merge(train_data, test_data, on = [user_col, item_col], how = 'left', suffixes = ('_train', '_test'))\n",
    "    valid_df['rank_percentile'] = (valid_df[f'{rank_col}_train'] - 1) / valid_df[f'{rank_col}_train'].max() * 100\n",
    "    return valid_df[~pd.isna(valid_df[f'{rank_col}_test'])]['rank_percentile'].mean()\n",
    "\n",
    "def average_relative_position(train_data, test_data, user_col, item_col, rank_col = 'rank'):\n",
    "    \"\"\"Derive ARP for the recommendation system.\n",
    "    The measurement is from \"Fast ALS-based Matrix Factorization for Explicit and Implicit Feedback Datasets\"\n",
    "    \n",
    "    Train, and test data has the stacked form, and the value is the ranking.\n",
    "    The range of ranking is [1, N] and the ranking is descending order.\n",
    "    \n",
    "    Ex)\n",
    "    | user_id | item_id | rank |\n",
    "    |---------|---------|------|\n",
    "    | 121000  |   012   |   3  |\n",
    "    |  ....   |   ...   |  ... |\n",
    "    \"\"\"\n",
    "    train_data = train_data[train_data[user_col].isin(test_data[user_col])]\n",
    "    test_data = test_data[test_data[user_col].isin(train_data[user_col])]\n",
    "    \n",
    "    valid_df = pd.merge(train_data, test_data, on = [user_col, item_col], how = 'left', suffixes = ('_train', '_test'))\n",
    "\n",
    "    valid_df = valid_df.sort_values([f'{user_col}', f'{rank_col}_train'])\n",
    "\n",
    "    valid_df['implicit_exist'] = ~pd.isna(valid_df[f'{rank_col}_test']) * 1\n",
    "\n",
    "    valid_df['cum_exist'] = valid_df.groupby(user_col)['implicit_exist'].cumsum()\n",
    "\n",
    "    valid_df['revealed_item'] = valid_df.groupby(user_col)[f'{rank_col}_test'].transform(func = 'count')\n",
    "\n",
    "    valid_df['relative_position'] = valid_df['rank_train'] - valid_df['cum_exist']\n",
    "    valid_df['relative_position'] = valid_df['relative_position'] / (valid_df[f'{rank_col}_train'].max() - valid_df['revealed_item']) * 100\n",
    "\n",
    "    revealed_df = valid_df[valid_df['implicit_exist'] == 1]\n",
    "\n",
    "    return revealed_df['relative_position'].mean()"
   ]
  },
  {
   "cell_type": "code",
   "execution_count": 129,
   "metadata": {},
   "outputs": [],
   "source": [
    "train_df = pd.DataFrame(ranking_df.stack(), columns = ['rank']).reset_index().rename(columns = {'level_1': '상품대분류', '회원번호': '유저ID'})"
   ]
  },
  {
   "cell_type": "code",
   "execution_count": 130,
   "metadata": {},
   "outputs": [],
   "source": [
    "test_data = pd.read_csv('./sample_data/test_data.csv')"
   ]
  },
  {
   "cell_type": "code",
   "execution_count": 133,
   "metadata": {},
   "outputs": [],
   "source": [
    "test_data['rank'] = test_data.groupby(['유저ID']).rank(ascending = False)"
   ]
  },
  {
   "cell_type": "code",
   "execution_count": 204,
   "metadata": {},
   "outputs": [],
   "source": [
    "precision_list = [\n",
    "    precision_k(train_df, test_data, user_col = '유저ID', item_col = '상품대분류', k = k) for k in range(1, 30)\n",
    "]"
   ]
  },
  {
   "cell_type": "code",
   "execution_count": 205,
   "metadata": {},
   "outputs": [],
   "source": [
    "recall_list = [\n",
    "    recall_k(train_df, test_data, user_col = '유저ID', item_col = '상품대분류', k = k) for k in range(1, 30)\n",
    "]"
   ]
  },
  {
   "cell_type": "code",
   "execution_count": 206,
   "metadata": {},
   "outputs": [
    {
     "data": {
      "application/vnd.plotly.v1+json": {
       "config": {
        "plotlyServerURL": "https://plot.ly"
       },
       "data": [
        {
         "hovertemplate": "variable=wide_variable_0<br>index=%{x}<br>value=%{y}<extra></extra>",
         "legendgroup": "wide_variable_0",
         "line": {
          "color": "#636efa",
          "dash": "solid"
         },
         "mode": "lines",
         "name": "wide_variable_0",
         "orientation": "v",
         "showlegend": true,
         "type": "scatter",
         "x": [
          0,
          1,
          2,
          3,
          4,
          5,
          6,
          7,
          8,
          9,
          10,
          11,
          12,
          13,
          14,
          15,
          16,
          17,
          18,
          19,
          20,
          21,
          22,
          23,
          24,
          25,
          26,
          27,
          28
         ],
         "xaxis": "x",
         "y": [
          0.3651421354479389,
          0.3675645458498106,
          0.33771575670993875,
          0.31081906457690633,
          0.2847346735957267,
          0.2611855317915484,
          0.24177075538387366,
          0.22466562454709207,
          0.20930270007890667,
          0.1977018157725833,
          0.18717120060833178,
          0.1768463115178368,
          0.1678295616886478,
          0.1583070338634636,
          0.1489761692788671,
          0.14068096647963726,
          0.13267111851055252,
          0.12547073668421937,
          0.11897816343587804,
          0.11317315058282781,
          0.10785000971133189,
          0.10303714174394725,
          0.09864908536228584,
          0.09458270357564338,
          0.09084246050642872,
          0.08743531877551217,
          0.08453591171659867,
          0.08167057584747392,
          0.07907709947589404
         ],
         "yaxis": "y"
        },
        {
         "hovertemplate": "variable=wide_variable_1<br>index=%{x}<br>value=%{y}<extra></extra>",
         "legendgroup": "wide_variable_1",
         "line": {
          "color": "#EF553B",
          "dash": "solid"
         },
         "mode": "lines",
         "name": "wide_variable_1",
         "orientation": "v",
         "showlegend": true,
         "type": "scatter",
         "x": [
          0,
          1,
          2,
          3,
          4,
          5,
          6,
          7,
          8,
          9,
          10,
          11,
          12,
          13,
          14,
          15,
          16,
          17,
          18,
          19,
          20,
          21,
          22,
          23,
          24,
          25,
          26,
          27,
          28
         ],
         "xaxis": "x",
         "y": [
          0.39506283461391994,
          0.5180553827436993,
          0.5900190488022029,
          0.6590061511674796,
          0.7100481475018215,
          0.7518412011553692,
          0.7906133486611343,
          0.8241087182783697,
          0.8503368581838116,
          0.8835703148012927,
          0.9116423060733501,
          0.931397129858278,
          0.951751985094808,
          0.9636543245386078,
          0.9707129445845567,
          0.9780659680445543,
          0.9798523455953491,
          0.9810408459858637,
          0.9817633223247212,
          0.982799995656887,
          0.9833250327432401,
          0.9843598731567427,
          0.9850901771966389,
          0.9854925977009249,
          0.9859043339042927,
          0.986855511135517,
          0.9907007235295605,
          0.9923986963573704,
          0.9950088763547634
         ],
         "yaxis": "y"
        }
       ],
       "layout": {
        "autosize": true,
        "legend": {
         "title": {
          "text": "variable"
         },
         "tracegroupgap": 0
        },
        "margin": {
         "t": 60
        },
        "template": {
         "data": {
          "bar": [
           {
            "error_x": {
             "color": "#2a3f5f"
            },
            "error_y": {
             "color": "#2a3f5f"
            },
            "marker": {
             "line": {
              "color": "#E5ECF6",
              "width": 0.5
             }
            },
            "type": "bar"
           }
          ],
          "barpolar": [
           {
            "marker": {
             "line": {
              "color": "#E5ECF6",
              "width": 0.5
             }
            },
            "type": "barpolar"
           }
          ],
          "carpet": [
           {
            "aaxis": {
             "endlinecolor": "#2a3f5f",
             "gridcolor": "white",
             "linecolor": "white",
             "minorgridcolor": "white",
             "startlinecolor": "#2a3f5f"
            },
            "baxis": {
             "endlinecolor": "#2a3f5f",
             "gridcolor": "white",
             "linecolor": "white",
             "minorgridcolor": "white",
             "startlinecolor": "#2a3f5f"
            },
            "type": "carpet"
           }
          ],
          "choropleth": [
           {
            "colorbar": {
             "outlinewidth": 0,
             "ticks": ""
            },
            "type": "choropleth"
           }
          ],
          "contour": [
           {
            "colorbar": {
             "outlinewidth": 0,
             "ticks": ""
            },
            "colorscale": [
             [
              0,
              "#0d0887"
             ],
             [
              0.1111111111111111,
              "#46039f"
             ],
             [
              0.2222222222222222,
              "#7201a8"
             ],
             [
              0.3333333333333333,
              "#9c179e"
             ],
             [
              0.4444444444444444,
              "#bd3786"
             ],
             [
              0.5555555555555556,
              "#d8576b"
             ],
             [
              0.6666666666666666,
              "#ed7953"
             ],
             [
              0.7777777777777778,
              "#fb9f3a"
             ],
             [
              0.8888888888888888,
              "#fdca26"
             ],
             [
              1,
              "#f0f921"
             ]
            ],
            "type": "contour"
           }
          ],
          "contourcarpet": [
           {
            "colorbar": {
             "outlinewidth": 0,
             "ticks": ""
            },
            "type": "contourcarpet"
           }
          ],
          "heatmap": [
           {
            "colorbar": {
             "outlinewidth": 0,
             "ticks": ""
            },
            "colorscale": [
             [
              0,
              "#0d0887"
             ],
             [
              0.1111111111111111,
              "#46039f"
             ],
             [
              0.2222222222222222,
              "#7201a8"
             ],
             [
              0.3333333333333333,
              "#9c179e"
             ],
             [
              0.4444444444444444,
              "#bd3786"
             ],
             [
              0.5555555555555556,
              "#d8576b"
             ],
             [
              0.6666666666666666,
              "#ed7953"
             ],
             [
              0.7777777777777778,
              "#fb9f3a"
             ],
             [
              0.8888888888888888,
              "#fdca26"
             ],
             [
              1,
              "#f0f921"
             ]
            ],
            "type": "heatmap"
           }
          ],
          "heatmapgl": [
           {
            "colorbar": {
             "outlinewidth": 0,
             "ticks": ""
            },
            "colorscale": [
             [
              0,
              "#0d0887"
             ],
             [
              0.1111111111111111,
              "#46039f"
             ],
             [
              0.2222222222222222,
              "#7201a8"
             ],
             [
              0.3333333333333333,
              "#9c179e"
             ],
             [
              0.4444444444444444,
              "#bd3786"
             ],
             [
              0.5555555555555556,
              "#d8576b"
             ],
             [
              0.6666666666666666,
              "#ed7953"
             ],
             [
              0.7777777777777778,
              "#fb9f3a"
             ],
             [
              0.8888888888888888,
              "#fdca26"
             ],
             [
              1,
              "#f0f921"
             ]
            ],
            "type": "heatmapgl"
           }
          ],
          "histogram": [
           {
            "marker": {
             "colorbar": {
              "outlinewidth": 0,
              "ticks": ""
             }
            },
            "type": "histogram"
           }
          ],
          "histogram2d": [
           {
            "colorbar": {
             "outlinewidth": 0,
             "ticks": ""
            },
            "colorscale": [
             [
              0,
              "#0d0887"
             ],
             [
              0.1111111111111111,
              "#46039f"
             ],
             [
              0.2222222222222222,
              "#7201a8"
             ],
             [
              0.3333333333333333,
              "#9c179e"
             ],
             [
              0.4444444444444444,
              "#bd3786"
             ],
             [
              0.5555555555555556,
              "#d8576b"
             ],
             [
              0.6666666666666666,
              "#ed7953"
             ],
             [
              0.7777777777777778,
              "#fb9f3a"
             ],
             [
              0.8888888888888888,
              "#fdca26"
             ],
             [
              1,
              "#f0f921"
             ]
            ],
            "type": "histogram2d"
           }
          ],
          "histogram2dcontour": [
           {
            "colorbar": {
             "outlinewidth": 0,
             "ticks": ""
            },
            "colorscale": [
             [
              0,
              "#0d0887"
             ],
             [
              0.1111111111111111,
              "#46039f"
             ],
             [
              0.2222222222222222,
              "#7201a8"
             ],
             [
              0.3333333333333333,
              "#9c179e"
             ],
             [
              0.4444444444444444,
              "#bd3786"
             ],
             [
              0.5555555555555556,
              "#d8576b"
             ],
             [
              0.6666666666666666,
              "#ed7953"
             ],
             [
              0.7777777777777778,
              "#fb9f3a"
             ],
             [
              0.8888888888888888,
              "#fdca26"
             ],
             [
              1,
              "#f0f921"
             ]
            ],
            "type": "histogram2dcontour"
           }
          ],
          "mesh3d": [
           {
            "colorbar": {
             "outlinewidth": 0,
             "ticks": ""
            },
            "type": "mesh3d"
           }
          ],
          "parcoords": [
           {
            "line": {
             "colorbar": {
              "outlinewidth": 0,
              "ticks": ""
             }
            },
            "type": "parcoords"
           }
          ],
          "pie": [
           {
            "automargin": true,
            "type": "pie"
           }
          ],
          "scatter": [
           {
            "marker": {
             "colorbar": {
              "outlinewidth": 0,
              "ticks": ""
             }
            },
            "type": "scatter"
           }
          ],
          "scatter3d": [
           {
            "line": {
             "colorbar": {
              "outlinewidth": 0,
              "ticks": ""
             }
            },
            "marker": {
             "colorbar": {
              "outlinewidth": 0,
              "ticks": ""
             }
            },
            "type": "scatter3d"
           }
          ],
          "scattercarpet": [
           {
            "marker": {
             "colorbar": {
              "outlinewidth": 0,
              "ticks": ""
             }
            },
            "type": "scattercarpet"
           }
          ],
          "scattergeo": [
           {
            "marker": {
             "colorbar": {
              "outlinewidth": 0,
              "ticks": ""
             }
            },
            "type": "scattergeo"
           }
          ],
          "scattergl": [
           {
            "marker": {
             "colorbar": {
              "outlinewidth": 0,
              "ticks": ""
             }
            },
            "type": "scattergl"
           }
          ],
          "scattermapbox": [
           {
            "marker": {
             "colorbar": {
              "outlinewidth": 0,
              "ticks": ""
             }
            },
            "type": "scattermapbox"
           }
          ],
          "scatterpolar": [
           {
            "marker": {
             "colorbar": {
              "outlinewidth": 0,
              "ticks": ""
             }
            },
            "type": "scatterpolar"
           }
          ],
          "scatterpolargl": [
           {
            "marker": {
             "colorbar": {
              "outlinewidth": 0,
              "ticks": ""
             }
            },
            "type": "scatterpolargl"
           }
          ],
          "scatterternary": [
           {
            "marker": {
             "colorbar": {
              "outlinewidth": 0,
              "ticks": ""
             }
            },
            "type": "scatterternary"
           }
          ],
          "surface": [
           {
            "colorbar": {
             "outlinewidth": 0,
             "ticks": ""
            },
            "colorscale": [
             [
              0,
              "#0d0887"
             ],
             [
              0.1111111111111111,
              "#46039f"
             ],
             [
              0.2222222222222222,
              "#7201a8"
             ],
             [
              0.3333333333333333,
              "#9c179e"
             ],
             [
              0.4444444444444444,
              "#bd3786"
             ],
             [
              0.5555555555555556,
              "#d8576b"
             ],
             [
              0.6666666666666666,
              "#ed7953"
             ],
             [
              0.7777777777777778,
              "#fb9f3a"
             ],
             [
              0.8888888888888888,
              "#fdca26"
             ],
             [
              1,
              "#f0f921"
             ]
            ],
            "type": "surface"
           }
          ],
          "table": [
           {
            "cells": {
             "fill": {
              "color": "#EBF0F8"
             },
             "line": {
              "color": "white"
             }
            },
            "header": {
             "fill": {
              "color": "#C8D4E3"
             },
             "line": {
              "color": "white"
             }
            },
            "type": "table"
           }
          ]
         },
         "layout": {
          "annotationdefaults": {
           "arrowcolor": "#2a3f5f",
           "arrowhead": 0,
           "arrowwidth": 1
          },
          "coloraxis": {
           "colorbar": {
            "outlinewidth": 0,
            "ticks": ""
           }
          },
          "colorscale": {
           "diverging": [
            [
             0,
             "#8e0152"
            ],
            [
             0.1,
             "#c51b7d"
            ],
            [
             0.2,
             "#de77ae"
            ],
            [
             0.3,
             "#f1b6da"
            ],
            [
             0.4,
             "#fde0ef"
            ],
            [
             0.5,
             "#f7f7f7"
            ],
            [
             0.6,
             "#e6f5d0"
            ],
            [
             0.7,
             "#b8e186"
            ],
            [
             0.8,
             "#7fbc41"
            ],
            [
             0.9,
             "#4d9221"
            ],
            [
             1,
             "#276419"
            ]
           ],
           "sequential": [
            [
             0,
             "#0d0887"
            ],
            [
             0.1111111111111111,
             "#46039f"
            ],
            [
             0.2222222222222222,
             "#7201a8"
            ],
            [
             0.3333333333333333,
             "#9c179e"
            ],
            [
             0.4444444444444444,
             "#bd3786"
            ],
            [
             0.5555555555555556,
             "#d8576b"
            ],
            [
             0.6666666666666666,
             "#ed7953"
            ],
            [
             0.7777777777777778,
             "#fb9f3a"
            ],
            [
             0.8888888888888888,
             "#fdca26"
            ],
            [
             1,
             "#f0f921"
            ]
           ],
           "sequentialminus": [
            [
             0,
             "#0d0887"
            ],
            [
             0.1111111111111111,
             "#46039f"
            ],
            [
             0.2222222222222222,
             "#7201a8"
            ],
            [
             0.3333333333333333,
             "#9c179e"
            ],
            [
             0.4444444444444444,
             "#bd3786"
            ],
            [
             0.5555555555555556,
             "#d8576b"
            ],
            [
             0.6666666666666666,
             "#ed7953"
            ],
            [
             0.7777777777777778,
             "#fb9f3a"
            ],
            [
             0.8888888888888888,
             "#fdca26"
            ],
            [
             1,
             "#f0f921"
            ]
           ]
          },
          "colorway": [
           "#636efa",
           "#EF553B",
           "#00cc96",
           "#ab63fa",
           "#FFA15A",
           "#19d3f3",
           "#FF6692",
           "#B6E880",
           "#FF97FF",
           "#FECB52"
          ],
          "font": {
           "color": "#2a3f5f"
          },
          "geo": {
           "bgcolor": "white",
           "lakecolor": "white",
           "landcolor": "#E5ECF6",
           "showlakes": true,
           "showland": true,
           "subunitcolor": "white"
          },
          "hoverlabel": {
           "align": "left"
          },
          "hovermode": "closest",
          "mapbox": {
           "style": "light"
          },
          "paper_bgcolor": "white",
          "plot_bgcolor": "#E5ECF6",
          "polar": {
           "angularaxis": {
            "gridcolor": "white",
            "linecolor": "white",
            "ticks": ""
           },
           "bgcolor": "#E5ECF6",
           "radialaxis": {
            "gridcolor": "white",
            "linecolor": "white",
            "ticks": ""
           }
          },
          "scene": {
           "xaxis": {
            "backgroundcolor": "#E5ECF6",
            "gridcolor": "white",
            "gridwidth": 2,
            "linecolor": "white",
            "showbackground": true,
            "ticks": "",
            "zerolinecolor": "white"
           },
           "yaxis": {
            "backgroundcolor": "#E5ECF6",
            "gridcolor": "white",
            "gridwidth": 2,
            "linecolor": "white",
            "showbackground": true,
            "ticks": "",
            "zerolinecolor": "white"
           },
           "zaxis": {
            "backgroundcolor": "#E5ECF6",
            "gridcolor": "white",
            "gridwidth": 2,
            "linecolor": "white",
            "showbackground": true,
            "ticks": "",
            "zerolinecolor": "white"
           }
          },
          "shapedefaults": {
           "line": {
            "color": "#2a3f5f"
           }
          },
          "ternary": {
           "aaxis": {
            "gridcolor": "white",
            "linecolor": "white",
            "ticks": ""
           },
           "baxis": {
            "gridcolor": "white",
            "linecolor": "white",
            "ticks": ""
           },
           "bgcolor": "#E5ECF6",
           "caxis": {
            "gridcolor": "white",
            "linecolor": "white",
            "ticks": ""
           }
          },
          "title": {
           "x": 0.05
          },
          "xaxis": {
           "automargin": true,
           "gridcolor": "white",
           "linecolor": "white",
           "ticks": "",
           "title": {
            "standoff": 15
           },
           "zerolinecolor": "white",
           "zerolinewidth": 2
          },
          "yaxis": {
           "automargin": true,
           "gridcolor": "white",
           "linecolor": "white",
           "ticks": "",
           "title": {
            "standoff": 15
           },
           "zerolinecolor": "white",
           "zerolinewidth": 2
          }
         }
        },
        "xaxis": {
         "anchor": "y",
         "autorange": true,
         "domain": [
          0,
          1
         ],
         "range": [
          0,
          28
         ],
         "title": {
          "text": "index"
         },
         "type": "linear"
        },
        "yaxis": {
         "anchor": "x",
         "autorange": true,
         "domain": [
          0,
          1
         ],
         "range": [
          0.028192000760401306,
          1.045893975070256
         ],
         "title": {
          "text": "value"
         },
         "type": "linear"
        }
       }
      },
      "image/png": "[encoded data removed]",
      "text/html": [
       "<div>                            <div id=\"794678ae-2293-4ce4-921d-d254b8d3275d\" class=\"plotly-graph-div\" style=\"height:525px; width:100%;\"></div>            <script type=\"text/javascript\">                require([\"plotly\"], function(Plotly) {                    window.PLOTLYENV=window.PLOTLYENV || {};                                    if (document.getElementById(\"794678ae-2293-4ce4-921d-d254b8d3275d\")) {                    Plotly.newPlot(                        \"794678ae-2293-4ce4-921d-d254b8d3275d\",                        [{\"hovertemplate\": \"variable=wide_variable_0<br>index=%{x}<br>value=%{y}<extra></extra>\", \"legendgroup\": \"wide_variable_0\", \"line\": {\"color\": \"#636efa\", \"dash\": \"solid\"}, \"mode\": \"lines\", \"name\": \"wide_variable_0\", \"orientation\": \"v\", \"showlegend\": true, \"type\": \"scatter\", \"x\": [0, 1, 2, 3, 4, 5, 6, 7, 8, 9, 10, 11, 12, 13, 14, 15, 16, 17, 18, 19, 20, 21, 22, 23, 24, 25, 26, 27, 28], \"xaxis\": \"x\", \"y\": [0.3651421354479389, 0.3675645458498106, 0.33771575670993875, 0.31081906457690633, 0.2847346735957267, 0.2611855317915484, 0.24177075538387366, 0.22466562454709207, 0.20930270007890667, 0.1977018157725833, 0.18717120060833178, 0.1768463115178368, 0.1678295616886478, 0.1583070338634636, 0.1489761692788671, 0.14068096647963726, 0.13267111851055252, 0.12547073668421937, 0.11897816343587804, 0.11317315058282781, 0.10785000971133189, 0.10303714174394725, 0.09864908536228584, 0.09458270357564338, 0.09084246050642872, 0.08743531877551217, 0.08453591171659867, 0.08167057584747392, 0.07907709947589404], \"yaxis\": \"y\"}, {\"hovertemplate\": \"variable=wide_variable_1<br>index=%{x}<br>value=%{y}<extra></extra>\", \"legendgroup\": \"wide_variable_1\", \"line\": {\"color\": \"#EF553B\", \"dash\": \"solid\"}, \"mode\": \"lines\", \"name\": \"wide_variable_1\", \"orientation\": \"v\", \"showlegend\": true, \"type\": \"scatter\", \"x\": [0, 1, 2, 3, 4, 5, 6, 7, 8, 9, 10, 11, 12, 13, 14, 15, 16, 17, 18, 19, 20, 21, 22, 23, 24, 25, 26, 27, 28], \"xaxis\": \"x\", \"y\": [0.39506283461391994, 0.5180553827436993, 0.5900190488022029, 0.6590061511674796, 0.7100481475018215, 0.7518412011553692, 0.7906133486611343, 0.8241087182783697, 0.8503368581838116, 0.8835703148012927, 0.9116423060733501, 0.931397129858278, 0.951751985094808, 0.9636543245386078, 0.9707129445845567, 0.9780659680445543, 0.9798523455953491, 0.9810408459858637, 0.9817633223247212, 0.982799995656887, 0.9833250327432401, 0.9843598731567427, 0.9850901771966389, 0.9854925977009249, 0.9859043339042927, 0.986855511135517, 0.9907007235295605, 0.9923986963573704, 0.9950088763547634], \"yaxis\": \"y\"}],                        {\"legend\": {\"title\": {\"text\": \"variable\"}, \"tracegroupgap\": 0}, \"margin\": {\"t\": 60}, \"template\": {\"data\": {\"bar\": [{\"error_x\": {\"color\": \"#2a3f5f\"}, \"error_y\": {\"color\": \"#2a3f5f\"}, \"marker\": {\"line\": {\"color\": \"#E5ECF6\", \"width\": 0.5}}, \"type\": \"bar\"}], \"barpolar\": [{\"marker\": {\"line\": {\"color\": \"#E5ECF6\", \"width\": 0.5}}, \"type\": \"barpolar\"}], \"carpet\": [{\"aaxis\": {\"endlinecolor\": \"#2a3f5f\", \"gridcolor\": \"white\", \"linecolor\": \"white\", \"minorgridcolor\": \"white\", \"startlinecolor\": \"#2a3f5f\"}, \"baxis\": {\"endlinecolor\": \"#2a3f5f\", \"gridcolor\": \"white\", \"linecolor\": \"white\", \"minorgridcolor\": \"white\", \"startlinecolor\": \"#2a3f5f\"}, \"type\": \"carpet\"}], \"choropleth\": [{\"colorbar\": {\"outlinewidth\": 0, \"ticks\": \"\"}, \"type\": \"choropleth\"}], \"contour\": [{\"colorbar\": {\"outlinewidth\": 0, \"ticks\": \"\"}, \"colorscale\": [[0.0, \"#0d0887\"], [0.1111111111111111, \"#46039f\"], [0.2222222222222222, \"#7201a8\"], [0.3333333333333333, \"#9c179e\"], [0.4444444444444444, \"#bd3786\"], [0.5555555555555556, \"#d8576b\"], [0.6666666666666666, \"#ed7953\"], [0.7777777777777778, \"#fb9f3a\"], [0.8888888888888888, \"#fdca26\"], [1.0, \"#f0f921\"]], \"type\": \"contour\"}], \"contourcarpet\": [{\"colorbar\": {\"outlinewidth\": 0, \"ticks\": \"\"}, \"type\": \"contourcarpet\"}], \"heatmap\": [{\"colorbar\": {\"outlinewidth\": 0, \"ticks\": \"\"}, \"colorscale\": [[0.0, \"#0d0887\"], [0.1111111111111111, \"#46039f\"], [0.2222222222222222, \"#7201a8\"], [0.3333333333333333, \"#9c179e\"], [0.4444444444444444, \"#bd3786\"], [0.5555555555555556, \"#d8576b\"], [0.6666666666666666, \"#ed7953\"], [0.7777777777777778, \"#fb9f3a\"], [0.8888888888888888, \"#fdca26\"], [1.0, \"#f0f921\"]], \"type\": \"heatmap\"}], \"heatmapgl\": [{\"colorbar\": {\"outlinewidth\": 0, \"ticks\": \"\"}, \"colorscale\": [[0.0, \"#0d0887\"], [0.1111111111111111, \"#46039f\"], [0.2222222222222222, \"#7201a8\"], [0.3333333333333333, \"#9c179e\"], [0.4444444444444444, \"#bd3786\"], [0.5555555555555556, \"#d8576b\"], [0.6666666666666666, \"#ed7953\"], [0.7777777777777778, \"#fb9f3a\"], [0.8888888888888888, \"#fdca26\"], [1.0, \"#f0f921\"]], \"type\": \"heatmapgl\"}], \"histogram\": [{\"marker\": {\"colorbar\": {\"outlinewidth\": 0, \"ticks\": \"\"}}, \"type\": \"histogram\"}], \"histogram2d\": [{\"colorbar\": {\"outlinewidth\": 0, \"ticks\": \"\"}, \"colorscale\": [[0.0, \"#0d0887\"], [0.1111111111111111, \"#46039f\"], [0.2222222222222222, \"#7201a8\"], [0.3333333333333333, \"#9c179e\"], [0.4444444444444444, \"#bd3786\"], [0.5555555555555556, \"#d8576b\"], [0.6666666666666666, \"#ed7953\"], [0.7777777777777778, \"#fb9f3a\"], [0.8888888888888888, \"#fdca26\"], [1.0, \"#f0f921\"]], \"type\": \"histogram2d\"}], \"histogram2dcontour\": [{\"colorbar\": {\"outlinewidth\": 0, \"ticks\": \"\"}, \"colorscale\": [[0.0, \"#0d0887\"], [0.1111111111111111, \"#46039f\"], [0.2222222222222222, \"#7201a8\"], [0.3333333333333333, \"#9c179e\"], [0.4444444444444444, \"#bd3786\"], [0.5555555555555556, \"#d8576b\"], [0.6666666666666666, \"#ed7953\"], [0.7777777777777778, \"#fb9f3a\"], [0.8888888888888888, \"#fdca26\"], [1.0, \"#f0f921\"]], \"type\": \"histogram2dcontour\"}], \"mesh3d\": [{\"colorbar\": {\"outlinewidth\": 0, \"ticks\": \"\"}, \"type\": \"mesh3d\"}], \"parcoords\": [{\"line\": {\"colorbar\": {\"outlinewidth\": 0, \"ticks\": \"\"}}, \"type\": \"parcoords\"}], \"pie\": [{\"automargin\": true, \"type\": \"pie\"}], \"scatter\": [{\"marker\": {\"colorbar\": {\"outlinewidth\": 0, \"ticks\": \"\"}}, \"type\": \"scatter\"}], \"scatter3d\": [{\"line\": {\"colorbar\": {\"outlinewidth\": 0, \"ticks\": \"\"}}, \"marker\": {\"colorbar\": {\"outlinewidth\": 0, \"ticks\": \"\"}}, \"type\": \"scatter3d\"}], \"scattercarpet\": [{\"marker\": {\"colorbar\": {\"outlinewidth\": 0, \"ticks\": \"\"}}, \"type\": \"scattercarpet\"}], \"scattergeo\": [{\"marker\": {\"colorbar\": {\"outlinewidth\": 0, \"ticks\": \"\"}}, \"type\": \"scattergeo\"}], \"scattergl\": [{\"marker\": {\"colorbar\": {\"outlinewidth\": 0, \"ticks\": \"\"}}, \"type\": \"scattergl\"}], \"scattermapbox\": [{\"marker\": {\"colorbar\": {\"outlinewidth\": 0, \"ticks\": \"\"}}, \"type\": \"scattermapbox\"}], \"scatterpolar\": [{\"marker\": {\"colorbar\": {\"outlinewidth\": 0, \"ticks\": \"\"}}, \"type\": \"scatterpolar\"}], \"scatterpolargl\": [{\"marker\": {\"colorbar\": {\"outlinewidth\": 0, \"ticks\": \"\"}}, \"type\": \"scatterpolargl\"}], \"scatterternary\": [{\"marker\": {\"colorbar\": {\"outlinewidth\": 0, \"ticks\": \"\"}}, \"type\": \"scatterternary\"}], \"surface\": [{\"colorbar\": {\"outlinewidth\": 0, \"ticks\": \"\"}, \"colorscale\": [[0.0, \"#0d0887\"], [0.1111111111111111, \"#46039f\"], [0.2222222222222222, \"#7201a8\"], [0.3333333333333333, \"#9c179e\"], [0.4444444444444444, \"#bd3786\"], [0.5555555555555556, \"#d8576b\"], [0.6666666666666666, \"#ed7953\"], [0.7777777777777778, \"#fb9f3a\"], [0.8888888888888888, \"#fdca26\"], [1.0, \"#f0f921\"]], \"type\": \"surface\"}], \"table\": [{\"cells\": {\"fill\": {\"color\": \"#EBF0F8\"}, \"line\": {\"color\": \"white\"}}, \"header\": {\"fill\": {\"color\": \"#C8D4E3\"}, \"line\": {\"color\": \"white\"}}, \"type\": \"table\"}]}, \"layout\": {\"annotationdefaults\": {\"arrowcolor\": \"#2a3f5f\", \"arrowhead\": 0, \"arrowwidth\": 1}, \"coloraxis\": {\"colorbar\": {\"outlinewidth\": 0, \"ticks\": \"\"}}, \"colorscale\": {\"diverging\": [[0, \"#8e0152\"], [0.1, \"#c51b7d\"], [0.2, \"#de77ae\"], [0.3, \"#f1b6da\"], [0.4, \"#fde0ef\"], [0.5, \"#f7f7f7\"], [0.6, \"#e6f5d0\"], [0.7, \"#b8e186\"], [0.8, \"#7fbc41\"], [0.9, \"#4d9221\"], [1, \"#276419\"]], \"sequential\": [[0.0, \"#0d0887\"], [0.1111111111111111, \"#46039f\"], [0.2222222222222222, \"#7201a8\"], [0.3333333333333333, \"#9c179e\"], [0.4444444444444444, \"#bd3786\"], [0.5555555555555556, \"#d8576b\"], [0.6666666666666666, \"#ed7953\"], [0.7777777777777778, \"#fb9f3a\"], [0.8888888888888888, \"#fdca26\"], [1.0, \"#f0f921\"]], \"sequentialminus\": [[0.0, \"#0d0887\"], [0.1111111111111111, \"#46039f\"], [0.2222222222222222, \"#7201a8\"], [0.3333333333333333, \"#9c179e\"], [0.4444444444444444, \"#bd3786\"], [0.5555555555555556, \"#d8576b\"], [0.6666666666666666, \"#ed7953\"], [0.7777777777777778, \"#fb9f3a\"], [0.8888888888888888, \"#fdca26\"], [1.0, \"#f0f921\"]]}, \"colorway\": [\"#636efa\", \"#EF553B\", \"#00cc96\", \"#ab63fa\", \"#FFA15A\", \"#19d3f3\", \"#FF6692\", \"#B6E880\", \"#FF97FF\", \"#FECB52\"], \"font\": {\"color\": \"#2a3f5f\"}, \"geo\": {\"bgcolor\": \"white\", \"lakecolor\": \"white\", \"landcolor\": \"#E5ECF6\", \"showlakes\": true, \"showland\": true, \"subunitcolor\": \"white\"}, \"hoverlabel\": {\"align\": \"left\"}, \"hovermode\": \"closest\", \"mapbox\": {\"style\": \"light\"}, \"paper_bgcolor\": \"white\", \"plot_bgcolor\": \"#E5ECF6\", \"polar\": {\"angularaxis\": {\"gridcolor\": \"white\", \"linecolor\": \"white\", \"ticks\": \"\"}, \"bgcolor\": \"#E5ECF6\", \"radialaxis\": {\"gridcolor\": \"white\", \"linecolor\": \"white\", \"ticks\": \"\"}}, \"scene\": {\"xaxis\": {\"backgroundcolor\": \"#E5ECF6\", \"gridcolor\": \"white\", \"gridwidth\": 2, \"linecolor\": \"white\", \"showbackground\": true, \"ticks\": \"\", \"zerolinecolor\": \"white\"}, \"yaxis\": {\"backgroundcolor\": \"#E5ECF6\", \"gridcolor\": \"white\", \"gridwidth\": 2, \"linecolor\": \"white\", \"showbackground\": true, \"ticks\": \"\", \"zerolinecolor\": \"white\"}, \"zaxis\": {\"backgroundcolor\": \"#E5ECF6\", \"gridcolor\": \"white\", \"gridwidth\": 2, \"linecolor\": \"white\", \"showbackground\": true, \"ticks\": \"\", \"zerolinecolor\": \"white\"}}, \"shapedefaults\": {\"line\": {\"color\": \"#2a3f5f\"}}, \"ternary\": {\"aaxis\": {\"gridcolor\": \"white\", \"linecolor\": \"white\", \"ticks\": \"\"}, \"baxis\": {\"gridcolor\": \"white\", \"linecolor\": \"white\", \"ticks\": \"\"}, \"bgcolor\": \"#E5ECF6\", \"caxis\": {\"gridcolor\": \"white\", \"linecolor\": \"white\", \"ticks\": \"\"}}, \"title\": {\"x\": 0.05}, \"xaxis\": {\"automargin\": true, \"gridcolor\": \"white\", \"linecolor\": \"white\", \"ticks\": \"\", \"title\": {\"standoff\": 15}, \"zerolinecolor\": \"white\", \"zerolinewidth\": 2}, \"yaxis\": {\"automargin\": true, \"gridcolor\": \"white\", \"linecolor\": \"white\", \"ticks\": \"\", \"title\": {\"standoff\": 15}, \"zerolinecolor\": \"white\", \"zerolinewidth\": 2}}}, \"xaxis\": {\"anchor\": \"y\", \"domain\": [0.0, 1.0], \"title\": {\"text\": \"index\"}}, \"yaxis\": {\"anchor\": \"x\", \"domain\": [0.0, 1.0], \"title\": {\"text\": \"value\"}}},                        {\"responsive\": true}                    ).then(function(){\n",
       "                            \n",
       "var gd = document.getElementById('794678ae-2293-4ce4-921d-d254b8d3275d');\n",
       "var x = new MutationObserver(function (mutations, observer) {{\n",
       "        var display = window.getComputedStyle(gd).display;\n",
       "        if (!display || display === 'none') {{\n",
       "            console.log([gd, 'removed!']);\n",
       "            Plotly.purge(gd);\n",
       "            observer.disconnect();\n",
       "        }}\n",
       "}});\n",
       "\n",
       "// Listen for the removal of the full notebook cells\n",
       "var notebookContainer = gd.closest('#notebook-container');\n",
       "if (notebookContainer) {{\n",
       "    x.observe(notebookContainer, {childList: true});\n",
       "}}\n",
       "\n",
       "// Listen for the clearing of the current output cell\n",
       "var outputEl = gd.closest('.output');\n",
       "if (outputEl) {{\n",
       "    x.observe(outputEl, {childList: true});\n",
       "}}\n",
       "\n",
       "                        })                };                });            </script>        </div>"
      ]
     },
     "metadata": {},
     "output_type": "display_data"
    }
   ],
   "source": [
    "import plotly.express as px\n",
    "\n",
    "px.line(y = [precision_list, recall_list])"
   ]
  },
  {
   "cell_type": "code",
   "execution_count": 258,
   "metadata": {},
   "outputs": [
    {
     "data": {
      "text/plain": [
       "14.307313990301529"
      ]
     },
     "execution_count": 258,
     "metadata": {},
     "output_type": "execute_result"
    }
   ],
   "source": [
    "expected_rank_percentile(train_df, test_data, user_col = '유저ID', item_col = '상품대분류')"
   ]
  },
  {
   "cell_type": "code",
   "execution_count": 255,
   "metadata": {},
   "outputs": [
    {
     "data": {
      "text/plain": [
       "11.15269806699413"
      ]
     },
     "execution_count": 255,
     "metadata": {},
     "output_type": "execute_result"
    }
   ],
   "source": [
    "average_relative_position(train_df, test_data, user_col = '유저ID', item_col = '상품대분류')"
   ]
  }
 ],
 "metadata": {
  "kernelspec": {
   "display_name": "Python 3",
   "language": "python",
   "name": "python3"
  },
  "language_info": {
   "codemirror_mode": {
    "name": "ipython",
    "version": 3
   },
   "file_extension": ".py",
   "mimetype": "text/x-python",
   "name": "python",
   "nbconvert_exporter": "python",
   "pygments_lexer": "ipython3",
   "version": "3.8.2"
  }
 },
 "nbformat": 4,
 "nbformat_minor": 4
}
