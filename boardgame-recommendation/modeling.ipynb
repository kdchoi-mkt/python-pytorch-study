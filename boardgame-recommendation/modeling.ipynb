{
 "cells": [
  {
   "cell_type": "code",
   "execution_count": 1,
   "metadata": {},
   "outputs": [],
   "source": [
    "# Data Load & Treat\n",
    "import pandas as pd\n",
    "import numpy as np"
   ]
  },
  {
   "cell_type": "code",
   "execution_count": 2,
   "metadata": {},
   "outputs": [],
   "source": [
    "# Read From Data\n",
    "boardgame_description = pd.read_pickle('./resources/input/boardgame.pkl')\n",
    "boardgame_own_history = pd.read_pickle('./resources/input/user_own_data.pkl')\n",
    "boardgame_play_history = pd.read_pickle('./resources/input/user_play_data.pkl')"
   ]
  },
  {
   "cell_type": "code",
   "execution_count": 3,
   "metadata": {},
   "outputs": [],
   "source": [
    "# Data Preprocessing\n",
    "boardgame_play_amount = boardgame_play_history.groupby(['uid', 'boardgame'])[['values']].count().reset_index()"
   ]
  },
  {
   "cell_type": "code",
   "execution_count": 4,
   "metadata": {},
   "outputs": [],
   "source": [
    "# Data Preprocessing\n",
    "boardgame_play_history['played_at'] = boardgame_play_history['values'].apply(lambda x: x['played_at'])\n",
    "\n",
    "boardgame_play_history = boardgame_play_history.drop(columns = ['uid', 'values', 'play_history'])\n",
    "boardgame_play_history = boardgame_play_history.reset_index().rename(columns = {'index': 'user_id'})\n",
    "boardgame_play_history = boardgame_play_history[boardgame_play_history['played_at'] != '0000-00-00']\n",
    "\n",
    "boardgame_play_history = pd.DataFrame(boardgame_play_history.groupby('user_id')['boardgame'].apply(lambda x: list(x)))"
   ]
  },
  {
   "cell_type": "code",
   "execution_count": 5,
   "metadata": {},
   "outputs": [],
   "source": [
    "# Data Preprocessing\n",
    "boardgame_own_history['rating'] = boardgame_own_history['values'].apply(lambda x: float(x['rating']) if x['rating']!= 'N/A' else np.nan)\n",
    "boardgame_own_history['boardgame_list'] = boardgame_own_history.groupby('boardgame')['rating'].transform('count')\n",
    "\n",
    "boardgame_own_history = boardgame_own_history[boardgame_own_history['boardgame_list'] > 20]\n",
    "boardgame_own_history = boardgame_own_history.dropna(subset = ['rating'])\n",
    "boardgame_own_history = boardgame_own_history.drop_duplicates(['uid', 'boardgame'])"
   ]
  },
  {
   "cell_type": "code",
   "execution_count": 6,
   "metadata": {},
   "outputs": [],
   "source": [
    "# Recommendation System Module\n",
    "# Item Based RS\n",
    "from modeling.item_based import DescriptionBasedRS, Item2VecRS\n",
    "\n",
    "# CF Based RS\n",
    "from modeling.collaborative_filtering import DeepLearningRS, ImplicitFeedbackRS"
   ]
  },
  {
   "cell_type": "code",
   "execution_count": null,
   "metadata": {},
   "outputs": [],
   "source": [
    "dbrs = DescriptionBasedRS(boardgame_description.reset_index(), 'description', 'index')\n",
    "dbrs.most_similar_object('Gloomhaven')"
   ]
  },
  {
   "cell_type": "code",
   "execution_count": null,
   "metadata": {},
   "outputs": [],
   "source": [
    "i2v = Item2VecRS(boardgame_play_history.reset_index(), 'boardgame', iteration = 10)\n",
    "i2v.most_similar_object('Gloomhaven')"
   ]
  },
  {
   "cell_type": "code",
   "execution_count": 20,
   "metadata": {},
   "outputs": [
    {
     "data": {
      "application/vnd.jupyter.widget-view+json": {
       "model_id": "6b5b4f3210384504845905f0a4695a3a",
       "version_major": 2,
       "version_minor": 0
      },
      "text/plain": [
       "HBox(children=(HTML(value=''), FloatProgress(value=0.0, max=3000.0), HTML(value='')))"
      ]
     },
     "metadata": {},
     "output_type": "display_data"
    },
    {
     "name": "stdout",
     "output_type": "stream",
     "text": [
      "\n"
     ]
    },
    {
     "data": {
      "text/html": [
       "<div>\n",
       "<style scoped>\n",
       "    .dataframe tbody tr th:only-of-type {\n",
       "        vertical-align: middle;\n",
       "    }\n",
       "\n",
       "    .dataframe tbody tr th {\n",
       "        vertical-align: top;\n",
       "    }\n",
       "\n",
       "    .dataframe thead th {\n",
       "        text-align: right;\n",
       "    }\n",
       "</style>\n",
       "<table border=\"1\" class=\"dataframe\">\n",
       "  <thead>\n",
       "    <tr style=\"text-align: right;\">\n",
       "      <th>user</th>\n",
       "      <th>item</th>\n",
       "      <th>1awesomeguy</th>\n",
       "    </tr>\n",
       "  </thead>\n",
       "  <tbody>\n",
       "    <tr>\n",
       "      <th>0</th>\n",
       "      <td>Mansions of Madness: Second Edition</td>\n",
       "      <td>13.047338</td>\n",
       "    </tr>\n",
       "    <tr>\n",
       "      <th>1</th>\n",
       "      <td>Shadows over Camelot</td>\n",
       "      <td>12.801888</td>\n",
       "    </tr>\n",
       "    <tr>\n",
       "      <th>2</th>\n",
       "      <td>Dungeon Petz</td>\n",
       "      <td>12.529935</td>\n",
       "    </tr>\n",
       "    <tr>\n",
       "      <th>3</th>\n",
       "      <td>Five Tribes</td>\n",
       "      <td>12.490986</td>\n",
       "    </tr>\n",
       "    <tr>\n",
       "      <th>4</th>\n",
       "      <td>Modern Art</td>\n",
       "      <td>12.157318</td>\n",
       "    </tr>\n",
       "    <tr>\n",
       "      <th>5</th>\n",
       "      <td>Caverna: The Cave Farmers</td>\n",
       "      <td>12.080190</td>\n",
       "    </tr>\n",
       "    <tr>\n",
       "      <th>6</th>\n",
       "      <td>Commands &amp; Colors: Ancients</td>\n",
       "      <td>11.639956</td>\n",
       "    </tr>\n",
       "    <tr>\n",
       "      <th>7</th>\n",
       "      <td>The Pillars of the Earth</td>\n",
       "      <td>11.510962</td>\n",
       "    </tr>\n",
       "    <tr>\n",
       "      <th>8</th>\n",
       "      <td>Sherlock Holmes Consulting Detective: The Tham...</td>\n",
       "      <td>11.314445</td>\n",
       "    </tr>\n",
       "    <tr>\n",
       "      <th>9</th>\n",
       "      <td>The Manhattan Project</td>\n",
       "      <td>11.297258</td>\n",
       "    </tr>\n",
       "  </tbody>\n",
       "</table>\n",
       "</div>"
      ],
      "text/plain": [
       "user                                               item  1awesomeguy\n",
       "0                   Mansions of Madness: Second Edition    13.047338\n",
       "1                                  Shadows over Camelot    12.801888\n",
       "2                                          Dungeon Petz    12.529935\n",
       "3                                           Five Tribes    12.490986\n",
       "4                                            Modern Art    12.157318\n",
       "5                             Caverna: The Cave Farmers    12.080190\n",
       "6                           Commands & Colors: Ancients    11.639956\n",
       "7                              The Pillars of the Earth    11.510962\n",
       "8     Sherlock Holmes Consulting Detective: The Tham...    11.314445\n",
       "9                                 The Manhattan Project    11.297258"
      ]
     },
     "execution_count": 20,
     "metadata": {},
     "output_type": "execute_result"
    }
   ],
   "source": [
    "dl = DeepLearningRS(boardgame_own_history, user_col = 'uid', item_col = 'boardgame', value_col = 'rating', iteration = 10000)\n",
    "dl.most_prefer_object('1awesomeguy')"
   ]
  },
  {
   "cell_type": "code",
   "execution_count": 8,
   "metadata": {
    "collapsed": true,
    "jupyter": {
     "outputs_hidden": true
    }
   },
   "outputs": [
    {
     "data": {
      "application/vnd.jupyter.widget-view+json": {
       "model_id": "0b4a140028f341daa056ba985ee5ac31",
       "version_major": 2,
       "version_minor": 0
      },
      "text/plain": [
       "HBox(children=(HTML(value=''), FloatProgress(value=0.0, max=10000.0), HTML(value='')))"
      ]
     },
     "metadata": {},
     "output_type": "display_data"
    },
    {
     "name": "stdout",
     "output_type": "stream",
     "text": [
      "\n"
     ]
    },
    {
     "data": {
      "text/html": [
       "<div>\n",
       "<style scoped>\n",
       "    .dataframe tbody tr th:only-of-type {\n",
       "        vertical-align: middle;\n",
       "    }\n",
       "\n",
       "    .dataframe tbody tr th {\n",
       "        vertical-align: top;\n",
       "    }\n",
       "\n",
       "    .dataframe thead th {\n",
       "        text-align: right;\n",
       "    }\n",
       "</style>\n",
       "<table border=\"1\" class=\"dataframe\">\n",
       "  <thead>\n",
       "    <tr style=\"text-align: right;\">\n",
       "      <th>user</th>\n",
       "      <th>item</th>\n",
       "      <th>1awesomeguy</th>\n",
       "    </tr>\n",
       "  </thead>\n",
       "  <tbody>\n",
       "    <tr>\n",
       "      <th>0</th>\n",
       "      <td>Leaving Earth</td>\n",
       "      <td>1.172474</td>\n",
       "    </tr>\n",
       "    <tr>\n",
       "      <th>1</th>\n",
       "      <td>Ludus Gladiatorius</td>\n",
       "      <td>1.153663</td>\n",
       "    </tr>\n",
       "    <tr>\n",
       "      <th>2</th>\n",
       "      <td>The Three Musketeers: The Queen's Pendants</td>\n",
       "      <td>1.108430</td>\n",
       "    </tr>\n",
       "    <tr>\n",
       "      <th>3</th>\n",
       "      <td>Dust Tactics</td>\n",
       "      <td>1.090361</td>\n",
       "    </tr>\n",
       "    <tr>\n",
       "      <th>4</th>\n",
       "      <td>1-48Combat</td>\n",
       "      <td>1.073837</td>\n",
       "    </tr>\n",
       "    <tr>\n",
       "      <th>5</th>\n",
       "      <td>Sooty Saves Sixpence</td>\n",
       "      <td>1.039146</td>\n",
       "    </tr>\n",
       "    <tr>\n",
       "      <th>6</th>\n",
       "      <td>Zombies all around us</td>\n",
       "      <td>1.037263</td>\n",
       "    </tr>\n",
       "    <tr>\n",
       "      <th>7</th>\n",
       "      <td>Planet Apocalypse</td>\n",
       "      <td>1.032443</td>\n",
       "    </tr>\n",
       "    <tr>\n",
       "      <th>8</th>\n",
       "      <td>Dungeon Hack: The Dice Game</td>\n",
       "      <td>1.031934</td>\n",
       "    </tr>\n",
       "    <tr>\n",
       "      <th>9</th>\n",
       "      <td>Zombies at the door</td>\n",
       "      <td>1.028518</td>\n",
       "    </tr>\n",
       "  </tbody>\n",
       "</table>\n",
       "</div>"
      ],
      "text/plain": [
       "user                                        item  1awesomeguy\n",
       "0                                  Leaving Earth     1.172474\n",
       "1                             Ludus Gladiatorius     1.153663\n",
       "2     The Three Musketeers: The Queen's Pendants     1.108430\n",
       "3                                   Dust Tactics     1.090361\n",
       "4                                     1-48Combat     1.073837\n",
       "5                           Sooty Saves Sixpence     1.039146\n",
       "6                          Zombies all around us     1.037263\n",
       "7                              Planet Apocalypse     1.032443\n",
       "8                    Dungeon Hack: The Dice Game     1.031934\n",
       "9                            Zombies at the door     1.028518"
      ]
     },
     "execution_count": 8,
     "metadata": {},
     "output_type": "execute_result"
    }
   ],
   "source": [
    "IF = ImplicitFeedbackRS(boardgame_play_amount, user_col = 'uid', item_col = 'boardgame', value_col = 'values', iteration = 10000)\n",
    "IF.most_prefer_object('1awesomeguy')"
   ]
  },
  {
   "cell_type": "markdown",
   "metadata": {},
   "source": [
    "### 평가 숫자가 많으면 평균 rating은 비슷하게 나타난다?\n",
    "#### Ovecomming Issue\n",
    "+ 모집단 평균을 반영하지 못함\n",
    "    + 극단적인 예시로, 모집단 평균이 6인데도 불구하고 prediction value가 0인 경우 존재\n",
    "    + 이는 그냥 그 사람들이 그 물건을 싫어하는 것?"
   ]
  },
  {
   "cell_type": "markdown",
   "metadata": {},
   "source": [
    "## Deep Learning Based RS\n",
    "+ Input Layer: user one hot encoding vector\n",
    "+ Output Layer: user rating vector\n",
    "\n",
    "\n",
    "> Layer\n",
    "1. Input Layer\n",
    "2. Hidden Layer -> Hidden Layer -> ... -> Hidden Layer\n",
    "3. Output Layer\n",
    "    + Multiply Non-Zero outcome filter matrix\n",
    "4. Calculate cost: `MSELoss`"
   ]
  }
 ],
 "metadata": {
  "kernelspec": {
   "display_name": "Python 3",
   "language": "python",
   "name": "python3"
  },
  "language_info": {
   "codemirror_mode": {
    "name": "ipython",
    "version": 3
   },
   "file_extension": ".py",
   "mimetype": "text/x-python",
   "name": "python",
   "nbconvert_exporter": "python",
   "pygments_lexer": "ipython3",
   "version": "3.8.2"
  }
 },
 "nbformat": 4,
 "nbformat_minor": 4
}
